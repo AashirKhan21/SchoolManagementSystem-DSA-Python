{
 "cells": [
  {
   "cell_type": "markdown",
   "metadata": {},
   "source": [
    "# <center><i><h1>Welcome To School Management System"
   ]
  },
  {
   "cell_type": "markdown",
   "metadata": {},
   "source": [
    "# Importing Libraries"
   ]
  },
  {
   "cell_type": "code",
   "execution_count": 1,
   "metadata": {},
   "outputs": [],
   "source": [
    "from IPython.display import clear_output\n",
    "import sys\n",
    "import numpy as np"
   ]
  },
  {
   "cell_type": "markdown",
   "metadata": {},
   "source": [
    "## Database/Dictionary"
   ]
  },
  {
   "cell_type": "code",
   "execution_count": 2,
   "metadata": {},
   "outputs": [],
   "source": [
    "#For Student\n",
    "\n",
    "StudentDetails = {\n",
    "    \"sID\" : [],\n",
    "    \"StudentName\" : [],\n",
    "    \"FatherName\" : [],\n",
    "    \"Email\" : [],\n",
    "    \"Phone\" : [],\n",
    "    \"Address\" : [],\n",
    "    \"City\" : [],\n",
    "    \"Attendance\": []\n",
    "}\n",
    "\n",
    "#For Faculty\n",
    "\n",
    "FacultyDetails = {\n",
    "    \"fID\" : [],\n",
    "    \"FacultyName\" : [],\n",
    "    \"Salary\" : [],\n",
    "    \"Qualification\" : [],\n",
    "    \"Email\" : [],\n",
    "    \"Phone\" : [],\n",
    "    \"Address\" : [],\n",
    "    \"City\" : []\n",
    "}\n",
    "\n",
    "#For Courses\n",
    "\n",
    "CourseDetails = {\n",
    "    \"cID\" : [],\n",
    "    \"CourseName\" : [],\n",
    "    \"cHr\" : [],\n",
    "    \"Fees\" : [],\n",
    "    \"LabAvailable\" : []\n",
    "}\n"
   ]
  },
  {
   "cell_type": "markdown",
   "metadata": {},
   "source": [
    "# Using Data Structures"
   ]
  },
  {
   "cell_type": "markdown",
   "metadata": {},
   "source": [
    "# Singly Linked List"
   ]
  },
  {
   "cell_type": "code",
   "execution_count": 3,
   "metadata": {},
   "outputs": [],
   "source": [
    "class Node:    \n",
    "    def __init__(self,sID,StudentName,FatherName,Email,Phone,Address,City):\n",
    "        self.sID = sID \n",
    "        self.StudentName = StudentName\n",
    "        self.FatherName = FatherName\n",
    "        self.Email = Email\n",
    "        self.Phone = Phone\n",
    "        self.Address = Address\n",
    "        self.City = City\n",
    "        self.next = None \n",
    "        \n",
    "class LinkedList:        \n",
    "    def __init__(self,Node): \n",
    "        self.head = Node      \n",
    "\n",
    "    def InsertNode(self, Node):\n",
    "        if self.head is None:\n",
    "            self.head = Node\n",
    "        else:\n",
    "            ptr = self.head\n",
    "            while(ptr.next!=None):\n",
    "                ptr = ptr.next\n",
    "            ptr.next = Node   \n"
   ]
  },
  {
   "cell_type": "markdown",
   "metadata": {},
   "source": [
    "# Doubly Linked List"
   ]
  },
  {
   "cell_type": "code",
   "execution_count": 4,
   "metadata": {},
   "outputs": [],
   "source": [
    "class FNode:    \n",
    "    def __init__(self,fID,FacultyName,Salary,Qualification,Email,Phone,Address,City):\n",
    "        self.fID = fID \n",
    "        self.FacultyName = FacultyName\n",
    "        self.Salary = Salary\n",
    "        self.Qualification = Qualification\n",
    "        self.Email = Email\n",
    "        self.Phone = Phone\n",
    "        self.Address = Address\n",
    "        self.City = City\n",
    "        self.next = None \n",
    "        self.Prev = None\n",
    "        \n",
    "class DoubllyLinkedList:        \n",
    "    def __init__(self,FNode): \n",
    "        self.head = FNode      \n",
    "            \n",
    "    def F_InsertNode(self, FNode):\n",
    "        if self.head is None:\n",
    "            self.head = FNode\n",
    "        else:\n",
    "            ptr = self.head\n",
    "            while(ptr.next!=None):\n",
    "                ptr = ptr.next\n",
    "            ptr.next = FNode   \n",
    "            FNode.Prev = ptr "
   ]
  },
  {
   "cell_type": "markdown",
   "metadata": {},
   "source": [
    "# Stack"
   ]
  },
  {
   "cell_type": "code",
   "execution_count": 5,
   "metadata": {},
   "outputs": [],
   "source": [
    "class Node_Courses:   \n",
    "     def __init__(self,cID,CourseName,cHr, Fees, LabAvailable):\n",
    "        self.cID = cID \n",
    "        self.CourseName = CourseName\n",
    "        self.cHr = cHr\n",
    "        self.LabAvailable = LabAvailable\n",
    "        self.Fees = Fees\n",
    "        self.Next = None   "
   ]
  },
  {
   "cell_type": "code",
   "execution_count": 6,
   "metadata": {},
   "outputs": [],
   "source": [
    "class Stack: \n",
    "    def __init__(self): \n",
    "        self.Start = None\n",
    "\n",
    "    def isempty(self): \n",
    "        if self.Start == None: \n",
    "            return True\n",
    "        else: \n",
    "            return False\n",
    "      \n",
    "    def push(self,cID,CourseName,cHr, Fees, LabAvailable): \n",
    "        if self.Start == None: \n",
    "            self.Start=Node_Courses(cID,CourseName,cHr, Fees, LabAvailable) \n",
    "        else: \n",
    "            AddNode = Node_Courses(cID,CourseName,cHr,Fees, LabAvailable) \n",
    "            AddNode.Next = self.Start \n",
    "            self.Start = AddNode \n",
    "\n",
    "    def pop(self): \n",
    "        if self.isempty(): \n",
    "            return None\n",
    "        else: \n",
    "            ptr = self.Start \n",
    "            self.Start = self.Start.Next\n",
    "            ptr.Next = None\n",
    "            return self.Start \n",
    "        \n",
    "    def ret_Start(self):\n",
    "        return self.Start"
   ]
  },
  {
   "cell_type": "markdown",
   "metadata": {},
   "source": [
    "# Array"
   ]
  },
  {
   "cell_type": "code",
   "execution_count": 7,
   "metadata": {},
   "outputs": [],
   "source": [
    "def Admin():\n",
    "    username = input(\"Enter Usename: \")\n",
    "    password = input(\"Enter Password: \")\n",
    "\n",
    "    login_Array = np.array([username,password]) "
   ]
  },
  {
   "cell_type": "markdown",
   "metadata": {},
   "source": [
    "# Recursion"
   ]
  },
  {
   "cell_type": "code",
   "execution_count": 8,
   "metadata": {},
   "outputs": [],
   "source": [
    "def PrintStd_Reverse(i):\n",
    "    if(i>-1):\n",
    "        print(\"||\",StudentDetails.get(\"sID\")[i],\"||  \", StudentDetails.get(\"StudentName\")[i],\"          ||  \", StudentDetails.get(\"FatherName\")[i],\"      ||  \",StudentDetails.get(\"Email\")[i],\"    ||  \",StudentDetails.get(\"Phone\")[i],\"    ||  \", StudentDetails.get(\"Address\")[i],\"    ||\",  StudentDetails.get(\"City\")[i],\"      ||\")\n",
    "\n",
    "        print_reverse(i-1)\n",
    "    else:\n",
    "        return \"RECORD EMPTY!\""
   ]
  },
  {
   "cell_type": "markdown",
   "metadata": {},
   "source": [
    "# Searching"
   ]
  },
  {
   "cell_type": "code",
   "execution_count": 9,
   "metadata": {},
   "outputs": [],
   "source": [
    "def linearsearch(arr, x):\n",
    "  \n",
    "    for i in range(len(arr)):\n",
    "  \n",
    "        if int(arr[i]) == int(x):\n",
    "            return arr[i]\n",
    "  \n",
    "    return -1"
   ]
  },
  {
   "cell_type": "markdown",
   "metadata": {},
   "source": [
    "# Main Methods"
   ]
  },
  {
   "cell_type": "code",
   "execution_count": 10,
   "metadata": {},
   "outputs": [],
   "source": [
    "import numpy as np\n",
    "\n",
    "#adding in Student record\n",
    "def addStudent():\n",
    "    LL = LinkedList(None)\n",
    "    sID = int(input(\"Enter Student ID: \"))\n",
    "    sName = input(\"Enter Student Name: \")\n",
    "    sFatherName = input(\"Enter Father Name: \") \n",
    "    sEmail = input(\"Enter Email Address: \")\n",
    "    sPhone = str(int(input(\"Enter Phone Number: \")))\n",
    "    sAddress = input(\"Enter Address: \")\n",
    "    sCity = input(\"Enter City: \")\n",
    "    \n",
    "    object1 = Node(sID,sName,sFatherName,sEmail,sPhone,sAddress,sCity)\n",
    "    LL.head = object1\n",
    "   \n",
    "    return LL.head\n",
    "\n",
    "#Searching in Student record\n",
    "def searchstudent():\n",
    "    sID = int(input(\"Enter Student ID: \"))\n",
    "    for i in range(len(StudentDetails.get(\"sID\"))):\n",
    "        if sID == StudentDetails.get(\"sID\")[i]:\n",
    "            print(\"==========================================================================================================================\")\n",
    "            print(\"||\\t\\t\\t\\t\\t  RESULT FOUND    \\t\\t\\t\\t\\t\\t ||\")\n",
    "            print(\"==========================================================================================================================\")\n",
    "            print(\"|| S.ID  ||      Name      ||    Father's Name   ||     Email      ||     Address    ||    Phone   ||    City   ||\")\n",
    "            print(\"||\",StudentDetails.get(\"sID\")[i],\"||   \", StudentDetails.get(\"StudentName\")[i],\"||\", StudentDetails.get(\"FatherName\")[i],\"||\",StudentDetails.get(\"Email\")[i],\"||\",StudentDetails.get(\"Address\")[i],\"||\", StudentDetails.get(\"Phone\")[i],\"||\",  StudentDetails.get(\"City\")[i],\"||\")\n",
    "            print(\"===================================================================================================================\")    \n",
    "            input(\"PRESS ENTER TO CONTINUE: \")\n",
    "            clear_output()\n",
    "        else:\n",
    "            clear_output()\n",
    "            print(\"NOTE: RESULT NOT FOUND!\")\n",
    "            input(\"PRESS ENTER TO CONTINUE: \")\n",
    "            clear_output()\n",
    "    \n",
    "    \n",
    "#Display Student record\n",
    "def displaystudent():\n",
    "    print(\"===================================================================================================================\")\n",
    "    print(\"||\\t\\t\\t\\t\\t  ALL STUDENT'S DETAILS    \\t\\t\\t\\t\\t\\t ||\")\n",
    "    print(\"===================================================================================================================\")\n",
    "    print(\"|| S.ID  ||      Name      ||    Father's Name   ||     Email      ||     Address    ||    Phone   ||    City   ||\")\n",
    "    \n",
    "    for i in range(len(StudentDetails.get(\"sID\"))):\n",
    "        print(\"||\",StudentDetails.get(\"sID\")[i],\"||   \", StudentDetails.get(\"StudentName\")[i],\"||\", StudentDetails.get(\"FatherName\")[i],\"||\",StudentDetails.get(\"Email\")[i],\"||\",StudentDetails.get(\"Address\")[i],\"||\", StudentDetails.get(\"Phone\")[i],\"||\",  StudentDetails.get(\"City\")[i],\"||\")\n",
    "    print(\"===================================================================================================================\")    \n"
   ]
  },
  {
   "cell_type": "markdown",
   "metadata": {},
   "source": [
    "# Attendance"
   ]
  },
  {
   "cell_type": "code",
   "execution_count": 11,
   "metadata": {},
   "outputs": [],
   "source": [
    "def StdAttendance():\n",
    "    sID = int(input(\"Enter Student ID: \"))\n",
    "    Day = int(input(\"Enter Day i.e. 4: \"))\n",
    "    Att = input(\"Enter i.e. P/A/L: \")\n",
    "    \n",
    "    for i in range(len(StudentDetails.get(\"sID\"))):\n",
    "        if sID == StudentDetails.get(\"sID\")[i]:\n",
    "            StudentDetails.get(\"Attendance\")[i][Day - 1] = Att"
   ]
  },
  {
   "cell_type": "markdown",
   "metadata": {},
   "source": [
    "# Generate Fee Bill"
   ]
  },
  {
   "cell_type": "code",
   "execution_count": 12,
   "metadata": {},
   "outputs": [],
   "source": [
    "def Fee_Bill():\n",
    "    Course_Fees = []\n",
    "    cID = int(input(\"Enter Course Id: \"))\n",
    "    for i in range(len(CourseDetails.get(\"Fees\"))):\n",
    "            if cID == CourseDetails.get(\"cID\")[i]:\n",
    "                x = CourseDetails.get(\"Fees\")[i]\n",
    "                Course_Fees.append(x) \n",
    "    print(Course_Fees)"
   ]
  },
  {
   "cell_type": "markdown",
   "metadata": {},
   "source": [
    "# Salary Slip"
   ]
  },
  {
   "cell_type": "code",
   "execution_count": 13,
   "metadata": {},
   "outputs": [],
   "source": [
    "def Salary_Slip():\n",
    "    fID = int(input(\"Enter Faculty Id: \"))\n",
    "    P = int(input(\"Enter Present Days: \"))\n",
    "    A = int(input(\"Enter Absent Days: \"))\n",
    "    clear_output()\n",
    "    for i in range(len(FacultyDetails.get(\"Salary\"))):\n",
    "        if fID == FacultyDetails.get(\"fID\")[i]:\n",
    "            x = FacultyDetails.get(\"Salary\")[i]\n",
    "            PerDaySalary = x / 30\n",
    "            print(\"===================== SALARY SLIP OF \", FacultyDetails.get(\"FacultyName\")[i], \" ======================\")\n",
    "            print(\"Present Days = \", P)\n",
    "            print(\"Absent Days = \", A)\n",
    "            print(\"Total Days = 30 \" )\n",
    "            print()\n",
    "            print(\"Salary Earned = \", str((P * PerDaySalary)))\n",
    "            print(\"Salary Deducted = \", str((A * PerDaySalary)))\n",
    "            print(\"===================== THANK YOU =========================\")\n",
    "\n",
    "                    "
   ]
  },
  {
   "cell_type": "code",
   "execution_count": null,
   "metadata": {},
   "outputs": [],
   "source": []
  },
  {
   "cell_type": "markdown",
   "metadata": {},
   "source": [
    "# Faculty Record"
   ]
  },
  {
   "cell_type": "code",
   "execution_count": 14,
   "metadata": {},
   "outputs": [],
   "source": [
    "#adding in Faculty record\n",
    "\n",
    "def addFaculty():\n",
    "    F_LL = DoubllyLinkedList(None)\n",
    "    fID = int(input(\"Enter Faculty ID: \"))\n",
    "    fName = input(\"Enter Faculty Name: \")\n",
    "    fSalary = int(input(\"Enter Faculty Salary: \"))\n",
    "    fQualification = input(\"Enter Faculty Qualification: \")\n",
    "    fEmail = input(\"Enter Faculty Email: \")\n",
    "    fPhone = str(int(input(\"Enter Faculty Phone Number: \")))\n",
    "    fAddress = input(\"Enter Faculty Address: \")\n",
    "    fCity = input(\"Enter Faculty City: \")\n",
    "    \n",
    "    object2 = FNode(fID,fName,fSalary, fQualification, fEmail, fPhone, fAddress, fCity)\n",
    "    F_LL.head = object2\n",
    "   \n",
    "    return F_LL.head\n",
    "      \n",
    "#Searching in Faculty record\n",
    "\n",
    "def searchfaculty():\n",
    "    fID= int(input(\"Enter Faculty ID: \"))\n",
    "    for i in range(len(FacultyDetails.get(\"fID\"))):\n",
    "        if sID == FacultyDetails.get(\"fID\")[i]:\n",
    "            print(\"==========================================================================================================================\")\n",
    "            print(\"||\\t\\t\\t\\t\\t  RESULT FOUND    \\t\\t\\t\\t\\t\\t ||\")\n",
    "            print(\"==========================================================================================================================\")\n",
    "            print(\"|| F.ID  ||      Name      ||    Salary    ||      Qualification     ||   Email      ||     Address    ||    Phone   ||    City   ||\")\n",
    "            print(\"||\",FacultyDetails.get(\"fID\")[i],\"||   \", FacultyDetails.get(\"FacultyName\")[i],\"||\", FacultyDetails.get(\"Salary\")[i],\"||\", FacultyDetails.get(\"Qualification\")[i],\"||\",FacultyDetails.get(\"Email\")[i],\"||\",FacultyDetails.get(\"Address\")[i],\"||\", FacultyDetails.get(\"Phone\")[i],\"||\",  FacultyDetails.get(\"City\")[i],\"||\")\n",
    "            print(\"===================================================================================================================\")    \n",
    "            input(\"PRESS ENTER TO CONTINUE: \")\n",
    "            clear_output()\n",
    "        else:\n",
    "            clear_output()\n",
    "            print(\"NOTE: RESULT NOT FOUND!\")\n",
    "            input(\"PRESS ENTER TO CONTINUE: \")\n",
    "            clear_output()\n",
    "    \n",
    "\n",
    "#Display Student record\n",
    "def displayFaculty():\n",
    "    print(\"================================================================================================================================\")\n",
    "    print(\"||\\t\\t\\t\\t\\t  ALL FACULTY DETAILS    \\t\\t\\t\\t\\t\\t ||\")\n",
    "    print(\"================================================================================================================================\")\n",
    "    print(\"|| F.ID  ||      Name      ||  Salary  ||       Qualification         ||        Email         ||     Address    ||    Phone   ||    City   ||\")\n",
    "    \n",
    "    for i in range(len(FacultyDetails.get(\"fID\"))):\n",
    "        print(\"||\",FacultyDetails.get(\"fID\")[i],\"||   \", FacultyDetails.get(\"FacultyName\")[i],\" || \", FacultyDetails.get(\"Salary\")[i],\"||\",FacultyDetails.get(\"Qualification\")[i],\"||\", FacultyDetails.get(\"Email\")[i],\"||\",  FacultyDetails.get(\"Address\")[i],\"||\",FacultyDetails.get(\"Phone\")[i],\"||\", FacultyDetails.get(\"City\")[i],\"||\")\n",
    "    print(\"===================================================================================================================\")    \n"
   ]
  },
  {
   "cell_type": "markdown",
   "metadata": {},
   "source": [
    "# Courses"
   ]
  },
  {
   "cell_type": "code",
   "execution_count": 15,
   "metadata": {},
   "outputs": [],
   "source": [
    "#adding in Courses record\n",
    "\n",
    "def addCourse():\n",
    "    Course_Stack = Stack() \n",
    "    \n",
    "    cID = int(input(\"Enter Course ID: \"))\n",
    "    CourseName = input(\"Enter Course Name: \")\n",
    "    cHr = input(\"Enter Credit Hours: \")\n",
    "    Fees = input(\"Enter Course Fees: \")\n",
    "    LabAvailable = input(\"Is Lab Available? Yes/No\")\n",
    "    \n",
    "    Course_Stack.push(cID,CourseName,cHr, Fees,LabAvailable)\n",
    "    \n",
    "    return Course_Stack\n",
    "    \n",
    "#Searching in Course record\n",
    "\n",
    "def searchcourse():\n",
    "    \n",
    "    cID= int(input(\"Enter Course ID: \"))\n",
    "    \n",
    "#deleting from Course record\n",
    "def deletecourse():\n",
    "    cID= int(input(\"Enter Course ID: \"))\n",
    "    \n",
    "def displayCourse():\n",
    "    print(\"==============================================================================================================================\")\n",
    "    print(\"||\\t\\t\\t\\t\\t  ALL COURSES DETAILS    \\t\\t\\t\\t\\t\\t ||\")\n",
    "    print(\"==============================================================================================================================\")\n",
    "    print(\"|| C.ID  ||                Name                   ||  Credit Hrs.  ||       Fees         ||       Lab Available         ||\")\n",
    "    \n",
    "    for i in range(len(CourseDetails.get(\"cID\"))):\n",
    "        print(\"||\",CourseDetails.get(\"cID\")[i],\"||   \", CourseDetails.get(\"CourseName\")[i],\"||\", CourseDetails.get(\"cHr\")[i],\"|| \",CourseDetails.get(\"Fees\")[i],\" ||\",CourseDetails.get(\"LabAvailable\")[i],\"||\")\n",
    "    print(\"===================================================================================================================\")    \n"
   ]
  },
  {
   "cell_type": "markdown",
   "metadata": {},
   "source": [
    "# Settings"
   ]
  },
  {
   "cell_type": "code",
   "execution_count": 16,
   "metadata": {},
   "outputs": [],
   "source": [
    "def settingMenu():\n",
    "    print()\n",
    "    print(\"Admin\")\n",
    "    print(\"Press Enter To Back the Menu\")\n",
    "    settingchoice = input(\"Enter Choice => \")\n",
    "    \n",
    "    return settingchoice"
   ]
  },
  {
   "cell_type": "markdown",
   "metadata": {},
   "source": [
    "# Other methods"
   ]
  },
  {
   "cell_type": "code",
   "execution_count": 17,
   "metadata": {},
   "outputs": [],
   "source": [
    "import numpy as np\n",
    "def AllLinks(Type,secondchoice):\n",
    "    \n",
    "    #For Student\n",
    "    \n",
    "    if Type == \"Student\":\n",
    "        clear_output()\n",
    "        if secondchoice == '1':\n",
    "            New_LL = LinkedList(None)\n",
    "            New_LL.head = addStudent()\n",
    "                        \n",
    "            print(\" New_LL : \",New_LL.head)\n",
    "            \n",
    "            \n",
    "            ptr = New_LL.head\n",
    "            StdAtt_Array = np.array(['' for i in range(30)], dtype='S')\n",
    "\n",
    "            for i in range(1): \n",
    "                StudentDetails[\"sID\"].append(ptr.sID)\n",
    "                StudentDetails[\"StudentName\"].append(ptr.StudentName)\n",
    "                StudentDetails[\"FatherName\"].append(ptr.FatherName)\n",
    "                StudentDetails[\"Email\"].append(ptr.Email)\n",
    "                StudentDetails[\"Phone\"].append(ptr.Phone)\n",
    "                StudentDetails[\"Address\"].append(ptr.Address)\n",
    "                StudentDetails[\"City\"].append(ptr.City)\n",
    "                StudentDetails[\"Attendance\"].append(StdAtt_Array)\n",
    "\n",
    "                \n",
    "                print(StudentDetails)\n",
    "            New_LL.head = None\n",
    "            \n",
    "        elif secondchoice == '2':\n",
    "            searchstudent()\n",
    "            input()\n",
    "            \n",
    "        elif secondchoice == '3':\n",
    "            displaystudent()\n",
    "            input()\n",
    "            \n",
    "    #For Faculty\n",
    "    if Type == \"faculty\":\n",
    "        clear_output()\n",
    "        if secondchoice == '1':\n",
    "            NewF_LL = DoubllyLinkedList(None)\n",
    "            NewF_LL.head = addFaculty()\n",
    "                        \n",
    "            print(\" NewF_LL : \",NewF_LL.head)\n",
    "            \n",
    "            \n",
    "            ptr = NewF_LL.head\n",
    "            \n",
    "            for i in range(1): \n",
    "                FacultyDetails[\"fID\"].append(ptr.fID)\n",
    "                FacultyDetails[\"FacultyName\"].append(ptr.FacultyName)\n",
    "                FacultyDetails[\"Salary\"].append(ptr.Salary)\n",
    "                FacultyDetails[\"Qualification\"].append(ptr.Qualification)\n",
    "                FacultyDetails[\"Email\"].append(ptr.Email)\n",
    "                FacultyDetails[\"Phone\"].append(ptr.Phone)\n",
    "                FacultyDetails[\"Address\"].append(ptr.Address)\n",
    "                FacultyDetails[\"City\"].append(ptr.City)\n",
    "                print(FacultyDetails)\n",
    "            NewF_LL.head = None\n",
    "            \n",
    "        elif secondchoice == '2':\n",
    "            searchFaculty()\n",
    "            input()\n",
    "            \n",
    "        elif secondchoice == '3':\n",
    "            displayFaculty()\n",
    "            input()\n",
    "            \n",
    "            \n",
    "                \n",
    "        #For Courses\n",
    "    if Type == \"course\":\n",
    "        if secondchoice == '1':\n",
    "            Course_Stack = addCourse()\n",
    "            ptr = Course_Stack.ret_Start()\n",
    "            for i in range(1): \n",
    "                CourseDetails[\"cID\"].append(ptr.cID)\n",
    "                CourseDetails[\"CourseName\"].append(ptr.CourseName)\n",
    "                CourseDetails[\"cHr\"].append(ptr.cHr)\n",
    "                CourseDetails[\"LabAvailable\"].append(ptr.LabAvailable)\n",
    "                CourseDetails[\"Fees\"].append(ptr.Fees)\n",
    "\n",
    "            Course_Stack.pop()\n",
    "            \n",
    "        elif secondchoice == '2':\n",
    "            searchcourse()\n",
    "            \n",
    "        elif secondchoice == '3':\n",
    "            displayCourse()\n",
    "            input()\n",
    "              "
   ]
  },
  {
   "cell_type": "markdown",
   "metadata": {},
   "source": [
    "# Inner menu"
   ]
  },
  {
   "cell_type": "code",
   "execution_count": 18,
   "metadata": {},
   "outputs": [],
   "source": [
    "def InnerMenu(Type):\n",
    "    print()\n",
    "    print(\"1 : + New \"+Type)\n",
    "    print(\"2 : Search in \"+Type)\n",
    "    print(\"3 : Display \"+Type+\" List\")\n",
    "    print(\"Press Enter To Back the Menu\")\n",
    "    secondchoice = input(\"Enter Choice\")\n",
    "    \n",
    "    return secondchoice"
   ]
  },
  {
   "cell_type": "markdown",
   "metadata": {},
   "source": [
    "# <center>Main Menu</center>"
   ]
  },
  {
   "cell_type": "code",
   "execution_count": 19,
   "metadata": {},
   "outputs": [
    {
     "name": "stdout",
     "output_type": "stream",
     "text": [
      "Glad to help you, Thank You!!\n"
     ]
    }
   ],
   "source": [
    "print(\"\\t\\t\\t| Login |\")\n",
    "input(\"Enter Username: \")\n",
    "input(\"Enter Password: \")\n",
    "clear_output()\n",
    "print(\"Login Successfully\")\n",
    "input(\"Press Enter to Continue\")\n",
    "clear_output()\n",
    "while(True):\n",
    "    print(\"\\t\\t\\t|Welcome To School Management System|\")\n",
    "    print(\"1 : Student\")\n",
    "    print(\"2 : Faculty\")\n",
    "    print(\"3 : Admission\")\n",
    "    print(\"4 : Courses\")\n",
    "    print(\"5 : Attendance\")\n",
    "    print(\"6 : Courses Fee Details:\")\n",
    "    print(\"7 : Generate Salary Slip\")\n",
    "    print(\"Press Enter To Close Program\")\n",
    "    choice = input(\"Enter your Choice: \")\n",
    "    clear_output()\n",
    "\n",
    "    if not choice:\n",
    "        clear_output()\n",
    "        print(\"Do you want to Logout?\")\n",
    "        input(\"Press E to end the program\")\n",
    "        clear_output()\n",
    "        print(\"Glad to help you, Thank You!!\")\n",
    "        break\n",
    "    \n",
    "    elif choice == '1':\n",
    "        clear_output()\n",
    "        print(\"You're in Student Detail:\")\n",
    "        secondchoice = InnerMenu(\"Student\")\n",
    "        AllLinks(\"Student\",secondchoice)\n",
    "        clear_output()\n",
    "        \n",
    "    elif choice == '2':\n",
    "        clear_output()\n",
    "        print(\"You're in Faculty Detail:\")\n",
    "        secondchoice = InnerMenu(\"faculty\")\n",
    "        AllLinks(\"faculty\",secondchoice)\n",
    "        clear_output()\n",
    "    \n",
    "    elif choice == '3':\n",
    "        clear_output()\n",
    "        print(\"You're in Admission:\")\n",
    "        AllLinks(\"Student\", \"1\")\n",
    "        clear_output()\n",
    "        \n",
    "    elif choice == '4':\n",
    "        clear_output()\n",
    "        print(\"You're in Courses:\")\n",
    "        secondchoice = InnerMenu(\"course\")\n",
    "        clear_output()\n",
    "        AllLinks(\"course\",secondchoice)\n",
    "        clear_output()\n",
    "\n",
    "        \n",
    "    elif choice == '5':\n",
    "        clear_output()\n",
    "        print(\"You're in Attendance:\")\n",
    "        StdAttendance()\n",
    "        clear_output()\n",
    "\n",
    "        \n",
    "    elif choice == '6':\n",
    "        clear_output()\n",
    "        print(\"Courses Fee Details\")\n",
    "        Fee_Bill()\n",
    "        clear_output()\n",
    "        \n",
    "\n",
    "        \n",
    "    elif choice == '7':\n",
    "        clear_output()\n",
    "        print(\"Generate Salary Slip:\")\n",
    "        Salary_Slip()\n",
    "        clear_output()\n",
    "        \n",
    "        "
   ]
  },
  {
   "cell_type": "code",
   "execution_count": null,
   "metadata": {},
   "outputs": [],
   "source": []
  },
  {
   "cell_type": "code",
   "execution_count": null,
   "metadata": {},
   "outputs": [],
   "source": []
  },
  {
   "cell_type": "code",
   "execution_count": null,
   "metadata": {},
   "outputs": [],
   "source": []
  }
 ],
 "metadata": {
  "kernelspec": {
   "display_name": "Python 3",
   "language": "python",
   "name": "python3"
  },
  "language_info": {
   "codemirror_mode": {
    "name": "ipython",
    "version": 3
   },
   "file_extension": ".py",
   "mimetype": "text/x-python",
   "name": "python",
   "nbconvert_exporter": "python",
   "pygments_lexer": "ipython3",
   "version": "3.9.0"
  }
 },
 "nbformat": 4,
 "nbformat_minor": 4
}
